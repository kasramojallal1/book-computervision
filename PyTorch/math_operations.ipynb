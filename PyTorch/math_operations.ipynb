{
 "cells": [
  {
   "cell_type": "code",
   "execution_count": 1,
   "metadata": {},
   "outputs": [],
   "source": [
    "import torch"
   ]
  },
  {
   "cell_type": "code",
   "execution_count": 2,
   "metadata": {},
   "outputs": [
    {
     "name": "stdout",
     "output_type": "stream",
     "text": [
      "1.10.2\n"
     ]
    }
   ],
   "source": [
    "print(torch.__version__)"
   ]
  },
  {
   "cell_type": "code",
   "execution_count": 3,
   "metadata": {},
   "outputs": [],
   "source": [
    "x = torch.tensor([[1,2]])\n",
    "y = torch.tensor([[1], [2]])"
   ]
  },
  {
   "cell_type": "code",
   "execution_count": 4,
   "metadata": {},
   "outputs": [
    {
     "name": "stdout",
     "output_type": "stream",
     "text": [
      "torch.Size([1, 2])\n",
      "torch.Size([2, 1])\n"
     ]
    }
   ],
   "source": [
    "print(x.shape)\n",
    "print(y.shape)"
   ]
  },
  {
   "cell_type": "code",
   "execution_count": 5,
   "metadata": {},
   "outputs": [
    {
     "name": "stdout",
     "output_type": "stream",
     "text": [
      "tensor([0., 1., 2.])\n"
     ]
    }
   ],
   "source": [
    "x = torch.tensor([False, 1, 2.])\n",
    "print(x)"
   ]
  },
  {
   "cell_type": "code",
   "execution_count": 6,
   "metadata": {},
   "outputs": [
    {
     "data": {
      "text/plain": [
       "tensor([[0., 0., 0., 0.],\n",
       "        [0., 0., 0., 0.],\n",
       "        [0., 0., 0., 0.]])"
      ]
     },
     "execution_count": 6,
     "metadata": {},
     "output_type": "execute_result"
    }
   ],
   "source": [
    "torch.zeros((3,4))"
   ]
  },
  {
   "cell_type": "code",
   "execution_count": 7,
   "metadata": {},
   "outputs": [
    {
     "data": {
      "text/plain": [
       "tensor([[1., 1., 1., 1.],\n",
       "        [1., 1., 1., 1.],\n",
       "        [1., 1., 1., 1.]])"
      ]
     },
     "execution_count": 7,
     "metadata": {},
     "output_type": "execute_result"
    }
   ],
   "source": [
    "torch.ones((3,4))"
   ]
  },
  {
   "cell_type": "code",
   "execution_count": 8,
   "metadata": {},
   "outputs": [
    {
     "data": {
      "text/plain": [
       "tensor([[0, 9, 6, 9],\n",
       "        [1, 4, 7, 0],\n",
       "        [0, 7, 4, 7]])"
      ]
     },
     "execution_count": 8,
     "metadata": {},
     "output_type": "execute_result"
    }
   ],
   "source": [
    "torch.randint(low=0, high=10, size=(3,4))"
   ]
  },
  {
   "cell_type": "code",
   "execution_count": 9,
   "metadata": {},
   "outputs": [
    {
     "data": {
      "text/plain": [
       "tensor([[0.1075, 0.0939, 0.0135, 0.7939],\n",
       "        [0.4441, 0.6713, 0.6995, 0.8659],\n",
       "        [0.2243, 0.0937, 0.9542, 0.1383]])"
      ]
     },
     "execution_count": 9,
     "metadata": {},
     "output_type": "execute_result"
    }
   ],
   "source": [
    "torch.rand((3,4))"
   ]
  },
  {
   "cell_type": "code",
   "execution_count": 10,
   "metadata": {},
   "outputs": [
    {
     "data": {
      "text/plain": [
       "tensor([[-0.0688,  0.8833,  0.3253,  0.3797],\n",
       "        [-0.9401, -1.6108,  0.2690,  0.0671],\n",
       "        [-0.4319,  1.4102,  1.3028,  1.1086]])"
      ]
     },
     "execution_count": 10,
     "metadata": {},
     "output_type": "execute_result"
    }
   ],
   "source": [
    "torch.randn((3,4))"
   ]
  },
  {
   "cell_type": "code",
   "execution_count": 11,
   "metadata": {},
   "outputs": [
    {
     "data": {
      "text/plain": [
       "torch.Size([4])"
      ]
     },
     "execution_count": 11,
     "metadata": {},
     "output_type": "execute_result"
    }
   ],
   "source": [
    "sample1 = torch.tensor([2, 3, 1, 0])\n",
    "sample1.shape"
   ]
  },
  {
   "cell_type": "code",
   "execution_count": 12,
   "metadata": {},
   "outputs": [
    {
     "data": {
      "text/plain": [
       "tensor([[2],\n",
       "        [3],\n",
       "        [1],\n",
       "        [0]])"
      ]
     },
     "execution_count": 12,
     "metadata": {},
     "output_type": "execute_result"
    }
   ],
   "source": [
    "sample1 = sample1.view(4,1)\n",
    "sample1"
   ]
  },
  {
   "cell_type": "code",
   "execution_count": 17,
   "metadata": {},
   "outputs": [
    {
     "name": "stdout",
     "output_type": "stream",
     "text": [
      "tensor([[ 50,  60],\n",
      "        [114, 140]])\n"
     ]
    }
   ],
   "source": [
    "x = torch.tensor([[1,2,3,4], [5,6,7,8]])\n",
    "y = x.view(4,2)\n",
    "print(torch.matmul(x, y))"
   ]
  },
  {
   "cell_type": "code",
   "execution_count": 18,
   "metadata": {},
   "outputs": [
    {
     "name": "stdout",
     "output_type": "stream",
     "text": [
      "tensor([[ 50,  60],\n",
      "        [114, 140]])\n"
     ]
    }
   ],
   "source": [
    "print(x@y)"
   ]
  },
  {
   "cell_type": "code",
   "execution_count": 23,
   "metadata": {},
   "outputs": [
    {
     "name": "stdout",
     "output_type": "stream",
     "text": [
      "torch.Size([10, 10, 10]) torch.Size([20, 10, 10])\n"
     ]
    }
   ],
   "source": [
    "x = torch.randn(10,10,10)\n",
    "z = torch.cat([x,x], axis=0)\n",
    "print(x.shape, z.shape)"
   ]
  },
  {
   "cell_type": "code",
   "execution_count": 24,
   "metadata": {},
   "outputs": [
    {
     "name": "stdout",
     "output_type": "stream",
     "text": [
      "torch.Size([10, 10, 10]) torch.Size([10, 20, 10])\n"
     ]
    }
   ],
   "source": [
    "x = torch.randn(10,10,10)\n",
    "z = torch.cat([x,x], axis=1)\n",
    "print(x.shape, z.shape)"
   ]
  },
  {
   "cell_type": "code",
   "execution_count": 25,
   "metadata": {},
   "outputs": [
    {
     "name": "stdout",
     "output_type": "stream",
     "text": [
      "torch.Size([10, 10, 10]) torch.Size([10, 10, 20])\n"
     ]
    }
   ],
   "source": [
    "x = torch.randn(10,10,10)\n",
    "z = torch.cat([x,x], axis=2)\n",
    "print(x.shape, z.shape)"
   ]
  },
  {
   "cell_type": "code",
   "execution_count": 26,
   "metadata": {},
   "outputs": [],
   "source": [
    "x = torch.arange(25).reshape(5,5)"
   ]
  },
  {
   "cell_type": "code",
   "execution_count": 27,
   "metadata": {},
   "outputs": [
    {
     "data": {
      "text/plain": [
       "tensor([[ 0,  1,  2,  3,  4],\n",
       "        [ 5,  6,  7,  8,  9],\n",
       "        [10, 11, 12, 13, 14],\n",
       "        [15, 16, 17, 18, 19],\n",
       "        [20, 21, 22, 23, 24]])"
      ]
     },
     "execution_count": 27,
     "metadata": {},
     "output_type": "execute_result"
    }
   ],
   "source": [
    "x"
   ]
  },
  {
   "cell_type": "code",
   "execution_count": 28,
   "metadata": {},
   "outputs": [
    {
     "name": "stdout",
     "output_type": "stream",
     "text": [
      "tensor(24)\n"
     ]
    }
   ],
   "source": [
    "print(x.max())"
   ]
  },
  {
   "cell_type": "code",
   "execution_count": 29,
   "metadata": {},
   "outputs": [
    {
     "name": "stdout",
     "output_type": "stream",
     "text": [
      "torch.return_types.max(\n",
      "values=tensor([20, 21, 22, 23, 24]),\n",
      "indices=tensor([4, 4, 4, 4, 4]))\n"
     ]
    }
   ],
   "source": [
    "print(x.max(dim=0))"
   ]
  },
  {
   "cell_type": "code",
   "execution_count": 32,
   "metadata": {},
   "outputs": [],
   "source": [
    "x = torch.tensor([[ 0,  1,  2,  3,  4],\n",
    "                    [ 5,  21,  7,  8,  9],\n",
    "                    [10, 11, 12, 13, 14],\n",
    "                    [15, 16, 17, 23, 19],\n",
    "                    [20, 6, 22, 18, 24]])"
   ]
  },
  {
   "cell_type": "code",
   "execution_count": 33,
   "metadata": {},
   "outputs": [
    {
     "name": "stdout",
     "output_type": "stream",
     "text": [
      "torch.return_types.max(\n",
      "values=tensor([20, 21, 22, 23, 24]),\n",
      "indices=tensor([4, 1, 4, 3, 4]))\n"
     ]
    }
   ],
   "source": [
    "print(x.max(dim=0))"
   ]
  },
  {
   "cell_type": "code",
   "execution_count": 34,
   "metadata": {},
   "outputs": [
    {
     "name": "stdout",
     "output_type": "stream",
     "text": [
      "torch.return_types.max(\n",
      "values=tensor([ 4, 21, 14, 23, 24]),\n",
      "indices=tensor([4, 1, 4, 3, 4]))\n"
     ]
    }
   ],
   "source": [
    "print(x.max(dim=1))"
   ]
  },
  {
   "cell_type": "code",
   "execution_count": 36,
   "metadata": {},
   "outputs": [
    {
     "name": "stdout",
     "output_type": "stream",
     "text": [
      "torch.Size([30, 10, 20])\n"
     ]
    }
   ],
   "source": [
    "x = torch.randn(10,20,30)\n",
    "z = x.permute(2,0,1)\n",
    "print(z.shape)"
   ]
  },
  {
   "cell_type": "code",
   "execution_count": 38,
   "metadata": {},
   "outputs": [
    {
     "name": "stdout",
     "output_type": "stream",
     "text": [
      "tensor([[ 0.8747, -0.8450, -0.6566],\n",
      "        [-0.6228, -1.1005,  0.0823],\n",
      "        [ 1.0649, -0.0441, -0.3547],\n",
      "        [ 0.8272,  1.5046,  0.5281],\n",
      "        [ 1.0218, -0.0681,  0.0128],\n",
      "        [ 0.6088, -1.4636, -1.0020],\n",
      "        [-1.2510, -1.2830, -2.3420],\n",
      "        [-0.4426, -0.1653, -0.1445],\n",
      "        [ 1.0691,  0.9296,  0.5939],\n",
      "        [-0.6177, -0.5124,  0.2445]])\n"
     ]
    }
   ],
   "source": [
    "sample2 = torch.randn(10,3)\n",
    "print(sample2)"
   ]
  },
  {
   "cell_type": "code",
   "execution_count": 39,
   "metadata": {},
   "outputs": [
    {
     "data": {
      "text/plain": [
       "tensor([[ 0.8747, -0.8450, -0.6566, -0.6228, -1.1005,  0.0823,  1.0649, -0.0441,\n",
       "         -0.3547,  0.8272],\n",
       "        [ 1.5046,  0.5281,  1.0218, -0.0681,  0.0128,  0.6088, -1.4636, -1.0020,\n",
       "         -1.2510, -1.2830],\n",
       "        [-2.3420, -0.4426, -0.1653, -0.1445,  1.0691,  0.9296,  0.5939, -0.6177,\n",
       "         -0.5124,  0.2445]])"
      ]
     },
     "execution_count": 39,
     "metadata": {},
     "output_type": "execute_result"
    }
   ],
   "source": [
    "sample2.reshape(3,10)"
   ]
  },
  {
   "cell_type": "code",
   "execution_count": 40,
   "metadata": {},
   "outputs": [
    {
     "data": {
      "text/plain": [
       "tensor([[ 0.8747, -0.8450, -0.6566, -0.6228, -1.1005,  0.0823,  1.0649, -0.0441,\n",
       "         -0.3547,  0.8272],\n",
       "        [ 1.5046,  0.5281,  1.0218, -0.0681,  0.0128,  0.6088, -1.4636, -1.0020,\n",
       "         -1.2510, -1.2830],\n",
       "        [-2.3420, -0.4426, -0.1653, -0.1445,  1.0691,  0.9296,  0.5939, -0.6177,\n",
       "         -0.5124,  0.2445]])"
      ]
     },
     "execution_count": 40,
     "metadata": {},
     "output_type": "execute_result"
    }
   ],
   "source": [
    "sample2.view(3,10)"
   ]
  },
  {
   "cell_type": "code",
   "execution_count": 41,
   "metadata": {},
   "outputs": [
    {
     "data": {
      "text/plain": [
       "tensor([[ 0.8747, -0.6228,  1.0649,  0.8272,  1.0218,  0.6088, -1.2510, -0.4426,\n",
       "          1.0691, -0.6177],\n",
       "        [-0.8450, -1.1005, -0.0441,  1.5046, -0.0681, -1.4636, -1.2830, -0.1653,\n",
       "          0.9296, -0.5124],\n",
       "        [-0.6566,  0.0823, -0.3547,  0.5281,  0.0128, -1.0020, -2.3420, -0.1445,\n",
       "          0.5939,  0.2445]])"
      ]
     },
     "execution_count": 41,
     "metadata": {},
     "output_type": "execute_result"
    }
   ],
   "source": [
    "sample2.permute(1,0)"
   ]
  },
  {
   "cell_type": "code",
   "execution_count": null,
   "metadata": {},
   "outputs": [],
   "source": []
  }
 ],
 "metadata": {
  "interpreter": {
   "hash": "ba181f63e9d4d2546882c6557f001599fbd08286524a1352a15ceb4bcf4e5348"
  },
  "kernelspec": {
   "display_name": "Python 3.8.8 64-bit ('base': conda)",
   "language": "python",
   "name": "python3"
  },
  "language_info": {
   "codemirror_mode": {
    "name": "ipython",
    "version": 3
   },
   "file_extension": ".py",
   "mimetype": "text/x-python",
   "name": "python",
   "nbconvert_exporter": "python",
   "pygments_lexer": "ipython3",
   "version": "3.8.8"
  },
  "orig_nbformat": 4
 },
 "nbformat": 4,
 "nbformat_minor": 2
}
